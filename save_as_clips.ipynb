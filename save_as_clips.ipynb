{
 "cells": [
  {
   "cell_type": "markdown",
   "metadata": {},
   "source": [
    "# Raw Audio Files to Audio Clips for Feature Extraction \n",
    "Kartik Nanda, Feb 2020\n",
    "\n",
    "Read in the dowmloaded (raw) audio files and save them as clips to constant duration. These are\n",
    "then used for the purpose of feature extraction and further analysis"
   ]
  },
  {
   "cell_type": "code",
   "execution_count": 63,
   "metadata": {},
   "outputs": [],
   "source": [
    "import numpy as np\n",
    "import glob\n",
    "import os\n",
    "from pathlib import Path\n",
    "import librosa\n",
    "import librosa.display\n",
    "import soundfile as sf\n",
    "import matplotlib.pyplot as plt\n",
    "%matplotlib inline\n",
    "plt.style.use('ggplot')"
   ]
  },
  {
   "cell_type": "markdown",
   "metadata": {},
   "source": [
    "## Define Constants "
   ]
  },
  {
   "cell_type": "code",
   "execution_count": 64,
   "metadata": {},
   "outputs": [],
   "source": [
    "# Define some important constants - this needs to be moved to a separate included file\n",
    "n_fft = 2048            # used for STFT: # samples used to generate fft\n",
    "sample_rate = [44100, 8192, 1024]  # sample rates of the audio clips\n",
    "cdur = 4                # clip duration in seconds\n",
    "n_chroma = 12           # num of chroma bins to produce\n",
    "n_mels = 128            # num of mel freq bands output\n",
    "n_bands = 6             # num of contrast bands"
   ]
  },
  {
   "cell_type": "markdown",
   "metadata": {},
   "source": [
    "## Path Setup"
   ]
  },
  {
   "cell_type": "markdown",
   "metadata": {},
   "source": [
    "We use the data in the datasets folder (Under-Water audio), and extract simple features from the audio files.\n",
    "\n",
    "The folder structure:\n",
    "\n",
    "    audio_anomaly_model/audio_baseline/ contains this script\n",
    "    audio_anomaly_model/datasets/ contains the dataset\n",
    "    audio_anomaly_model/features/ contains the features output\n"
   ]
  },
  {
   "cell_type": "code",
   "execution_count": 65,
   "metadata": {},
   "outputs": [],
   "source": [
    "# Define paths\n",
    "path_proj = Path.cwd().parent                        # The project directory\n",
    "path_raw_audio = path_proj/'datasets'/'downloaded'   # The downloaded audio files\n",
    "path_dataset = path_proj/'datasets'/'data_uw_sounds' # Dataset for Under-Water Audio \n",
    "path_features = path_proj/'features'                 # The output folder - where the features are saved (not used here)"
   ]
  },
  {
   "cell_type": "code",
   "execution_count": 66,
   "metadata": {},
   "outputs": [],
   "source": [
    "# This is a list of all the directories which contain downloaded audio files\n",
    "file_paths = list(path_raw_audio.glob('*'))"
   ]
  },
  {
   "cell_type": "code",
   "execution_count": 67,
   "metadata": {
    "scrolled": false
   },
   "outputs": [
    {
     "name": "stdout",
     "output_type": "stream",
     "text": [
      "*************** Folder (class):  beaked_whale  *******************\n",
      "File ( 404315__mbari-mars__beaked-whale-clicks.mp3 ) is mp3, skipped ...\n",
      "*************** Folder (class):  blue_whale  *******************\n",
      "Audio File (downloaded):  403844__mbari-mars__blue-whale-a-and-b-calls-audible-only-with-appropriate-speakers.wav\n",
      "Org. Sample rate:  48000 , Audio clips resampled at: 44100\n",
      "Number of audio samples:  2258116\n",
      "Writing ... number of clips:  12\n",
      "*************** Folder (class):  dolphin  *******************\n",
      "Audio File (downloaded):  265257__aguasonic__ag25feb015-trk05.wav\n",
      "Org. Sample rate:  48000 , Audio clips resampled at: 44100\n",
      "Number of audio samples:  1877837\n",
      "Writing ... number of clips:  10\n",
      "Audio File (downloaded):  324114__listeningtowhales__07-bottlenose-dolphins-with-humpback-whales.aiff\n",
      "Org. Sample rate:  44100 , Audio clips resampled at: 44100\n",
      "Number of audio samples:  3429804\n",
      "Writing ... number of clips:  19\n",
      "Audio File (downloaded):  385796__geraldfiebig__atlantic-spotted-dolphins-off-the-coast-of-la-gomera-canary-islands.wav\n",
      "Org. Sample rate:  44100 , Audio clips resampled at: 44100\n",
      "Number of audio samples:  7943735\n",
      "Writing ... number of clips:  45\n",
      "Audio File (downloaded):  404148__mbari-mars__pacific-white-sided-dolphins.wav\n",
      "Org. Sample rate:  256000 , Audio clips resampled at: 44100\n",
      "Number of audio samples:  1461601\n",
      "Writing ... number of clips:  8\n",
      "*************** Folder (class):  fin_whale  *******************\n",
      "Audio File (downloaded):  403841__mbari-mars__fin-whale-audible-only-with-appropriate-speakers.wav\n",
      "Org. Sample rate:  48000 , Audio clips resampled at: 44100\n",
      "Number of audio samples:  26513405\n",
      "Writing ... number of clips:  150\n",
      "*************** Folder (class):  gray_whale  *******************\n",
      "Audio File (downloaded):  413377__mbari-mars__gray-whale.wav\n",
      "Org. Sample rate:  1000 , Audio clips resampled at: 44100\n",
      "Number of audio samples:  1381301\n",
      "Writing ... number of clips:  7\n",
      "*************** Folder (class):  humpback_whale  *******************\n",
      "Audio File (downloaded):  321386__listeningtowhales__01-morning-listening.aiff\n",
      "Org. Sample rate:  44100 , Audio clips resampled at: 44100\n",
      "Number of audio samples:  5646564\n",
      "Writing ... number of clips:  32\n",
      "Audio File (downloaded):  321497__listeningtowhales__02-drifting-with-caribbean-humpback-whales.aiff\n",
      "Org. Sample rate:  44100 , Audio clips resampled at: 44100\n",
      "Number of audio samples:  15068676\n",
      "Writing ... number of clips:  85\n",
      "Audio File (downloaded):  322000__listeningtowhales__03-whales-slowing-down.aiff\n",
      "Org. Sample rate:  44100 , Audio clips resampled at: 44100\n",
      "Number of audio samples:  5009172\n",
      "Writing ... number of clips:  28\n",
      "Audio File (downloaded):  322357__listeningtowhales__04-singing-in-harmony.aiff\n",
      "Org. Sample rate:  44100 , Audio clips resampled at: 44100\n",
      "Number of audio samples:  2732436\n",
      "Writing ... number of clips:  15\n",
      "Audio File (downloaded):  322539__listeningtowhales__05-whales-in-the-rain.aiff\n",
      "Org. Sample rate:  44100 , Audio clips resampled at: 44100\n",
      "Number of audio samples:  7312956\n",
      "Writing ... number of clips:  41\n",
      "Audio File (downloaded):  325289__listeningtowhales__16-little-beat.aiff\n",
      "Org. Sample rate:  44100 , Audio clips resampled at: 44100\n",
      "Number of audio samples:  1918056\n",
      "Writing ... number of clips:  10\n",
      "Audio File (downloaded):  325565__listeningtowhales__15-busy-singing.aiff\n",
      "Org. Sample rate:  44100 , Audio clips resampled at: 44100\n",
      "Number of audio samples:  3276336\n",
      "Writing ... number of clips:  18\n",
      "Audio File (downloaded):  326532__listeningtowhales__18-little-group.aiff\n",
      "Org. Sample rate:  44100 , Audio clips resampled at: 44100\n",
      "Number of audio samples:  8329608\n",
      "Writing ... number of clips:  47\n",
      "Audio File (downloaded):  333105__listeningtowhales__feb-25-1988-730-750-a-m-or-so.aiff\n",
      "Org. Sample rate:  44100 , Audio clips resampled at: 44100\n",
      "Number of audio samples:  47697109\n",
      "Writing ... number of clips:  270\n",
      "*************** Folder (class):  orca  *******************\n",
      "Audio File (downloaded):  458854__mbari-mars__orcas-killer-whales.wav\n",
      "Org. Sample rate:  64000 , Audio clips resampled at: 44100\n",
      "Number of audio samples:  665037\n",
      "Writing ... number of clips:  3\n",
      "*************** Folder (class):  rain  *******************\n",
      "File ( 404317__mbari-mars__rain-heard-900-meters-below-the-sea-surface.mp3 ) is mp3, skipped ...\n",
      "*************** Folder (class):  sperm_whale  *******************\n",
      "File ( 404318__mbari-mars__cachalot-sperm-whale.mp3 ) is mp3, skipped ...\n"
     ]
    }
   ],
   "source": [
    "# Read in the downloaded audio files, and split them into 4 sec segments and save as separate files\n",
    "sr = sample_rate[0]\n",
    "for p in file_paths:\n",
    "    j=0\n",
    "    files = list(p.glob('*.*'))\n",
    "    print('*************** Folder (class): ', p.name, ' *******************')\n",
    "    for f in files:\n",
    "        if f.suffix != '.mp3':\n",
    "            print('Audio File (downloaded): ', f.name)\n",
    "            X, _sr = librosa.load(f, sr)\n",
    "            print('Org. Sample rate: ', librosa.get_samplerate(f), ', Audio clips resampled at:', _sr)\n",
    "            print('Number of audio samples: ', X.shape[0])\n",
    "            num_clips = int(X.shape[0]/(sr*cdur))\n",
    "            print('Writing ... number of clips: ', num_clips)\n",
    "            for i in range(0, num_clips):\n",
    "                outfile_name = p.name + '-' + str(i+j) + '.wav'\n",
    "                sf.write(path_dataset/outfile_name, X[i*sr*cdur:(i+1)*sr*cdur], sr)\n",
    "            j = j+i+1\n",
    "        else: \n",
    "            print('File (', f.name, ') is mp3, skipped ...')\n"
   ]
  },
  {
   "cell_type": "code",
   "execution_count": null,
   "metadata": {},
   "outputs": [],
   "source": []
  },
  {
   "cell_type": "code",
   "execution_count": null,
   "metadata": {},
   "outputs": [],
   "source": []
  },
  {
   "cell_type": "code",
   "execution_count": null,
   "metadata": {},
   "outputs": [],
   "source": []
  }
 ],
 "metadata": {
  "kernelspec": {
   "display_name": "Python 3",
   "language": "python",
   "name": "python3"
  },
  "language_info": {
   "codemirror_mode": {
    "name": "ipython",
    "version": 3
   },
   "file_extension": ".py",
   "mimetype": "text/x-python",
   "name": "python",
   "nbconvert_exporter": "python",
   "pygments_lexer": "ipython3",
   "version": "3.6.10"
  }
 },
 "nbformat": 4,
 "nbformat_minor": 4
}
